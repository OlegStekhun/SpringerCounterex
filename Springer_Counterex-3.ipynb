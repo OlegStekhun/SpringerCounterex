{
 "cells": [
  {
   "cell_type": "markdown",
   "id": "7500aa25-1c24-481e-afe8-b9387812f34c",
   "metadata": {},
   "source": [
    "**Формулировка задачи**"
   ]
  },
  {
   "cell_type": "markdown",
   "id": "c56616b5-3140-46b2-a793-5e67387410fa",
   "metadata": {},
   "source": [
    "Пусть $\\mathbb{F}_p$ обозначает конечное поле порядка $p$, где $p$ — простое число. Построим форму (т.е. однородный многочлен) четвертой степени от трех переменных $x_1, x_2, x_3$, которая является анизотропной (т.е. имеет в качестве корня лишь $x_1 = 0, x_2 = 0, x_3 = 0$) над полем $\\mathbb{F}_p$, но изотропной (т.е. имеет некоторый корень отличный от нулевого) над его кубическим расширением, порожденным некоторым неприводимым многочленом третьей степени с коэффициентами из $\\mathbb{F}_p$.\n"
   ]
  },
  {
   "cell_type": "markdown",
   "id": "86ae4a28-04a6-4bf5-8896-7d7589fc2dfb",
   "metadata": {},
   "source": [
    "**Решение**"
   ]
  },
  {
   "cell_type": "code",
   "execution_count": 51,
   "id": "e8cd202c-cb42-4412-bc9a-57a13f9192f3",
   "metadata": {},
   "outputs": [],
   "source": [
    "import sympy as sp\n",
    "import math\n",
    "from itertools import product"
   ]
  },
  {
   "cell_type": "code",
   "execution_count": 52,
   "id": "1f22319d-fea3-4c0e-a0f2-f53581ae4f2b",
   "metadata": {},
   "outputs": [],
   "source": [
    "prime = 5"
   ]
  },
  {
   "cell_type": "markdown",
   "id": "34cc15c6-c416-4297-bcad-b2742a9b1501",
   "metadata": {},
   "source": [
    "**Функция проверки формы на анизотропность**"
   ]
  },
  {
   "cell_type": "markdown",
   "id": "40104612-3b6b-45d5-85b3-428d848c6be0",
   "metadata": {},
   "source": [
    "Будем проверять форму $q(x_1, x_2, x_3) = d_1x_1^4 + d_2x_2^4+ d_3x_3^4$, где $d_1, d_2, d_3 \\in \\mathbb{F}_p$ на анизотропность с помощью перебора всех возможных элементов из $\\mathbb{F}_p$."
   ]
  },
  {
   "cell_type": "code",
   "execution_count": 55,
   "id": "07a14673-164d-44e1-8145-9c3cbe6ae6ee",
   "metadata": {},
   "outputs": [],
   "source": [
    "def check_for_anisotropicity(coeffs: tuple[int]) -> bool:\n",
    "    for x_1 in range(prime):\n",
    "        for x_2 in range(prime):\n",
    "            for x_3 in range(prime):\n",
    "                if (coeffs[0]*(x_1**4)+coeffs[1]*(x_2**4)+coeffs[2]*(x_3**4))%prime==0 and (x_1,x_2,x_3)!=(0,0,0):\n",
    "                    return False\n",
    "    return True"
   ]
  },
  {
   "cell_type": "markdown",
   "id": "3907582e-1af8-4fb4-abc3-1ae3b9e06652",
   "metadata": {},
   "source": [
    "**Функция проверки многочлена на неприводимость**"
   ]
  },
  {
   "cell_type": "markdown",
   "id": "a486af6f-4d49-4aa8-bea2-83cd19d6166b",
   "metadata": {},
   "source": [
    "Будем проверять многочлен $f(x) = x^3 + f_1x + f_2$, где $f_1, f_2 \\in \\mathbb{F}_p$ на неприводимость. Так как это многочлен третьей степени, то он может разложиться лишь на множители вида $x-x_0$ и $x^2+cx+d$. Поэтому для неприводимости $f(x)$ достаточно отсутствия у него корней. Так как $f\\in\\mathbb{F}_p[x]$, то искать его корни можно методом перебора."
   ]
  },
  {
   "cell_type": "code",
   "execution_count": 58,
   "id": "02d85094-addb-421f-9f8b-c49d9838e1f1",
   "metadata": {},
   "outputs": [],
   "source": [
    "def irred_cubic_polynom(coefs: tuple[int]) -> bool:\n",
    "    for x in range(prime):\n",
    "        if (x**3+coefs[0]*x+coefs[1])%prime==0:\n",
    "            return False\n",
    "    return True"
   ]
  },
  {
   "cell_type": "markdown",
   "id": "47adb8a3-0a15-4bf7-96c4-cee14cda7e7d",
   "metadata": {},
   "source": [
    "**Поиск анизотропной формы над $\\mathbb{F}_p$**"
   ]
  },
  {
   "cell_type": "code",
   "execution_count": 60,
   "id": "a97964f2-e1e7-4602-b650-c5390d6d41ec",
   "metadata": {},
   "outputs": [],
   "source": [
    "def possible_forms() -> list[tuple[int]]:\n",
    "    form_coeffs = []\n",
    "    for coeff1, coeff2, coeff3 in product(range(1, prime), repeat=3):\n",
    "        if check_for_anisotropicity(cfs:=(coeff1, coeff2, coeff3)):\n",
    "            form_coeffs.append(cfs)\n",
    "    return form_coeffs"
   ]
  },
  {
   "cell_type": "markdown",
   "id": "b6d2f2e8-e400-4c51-a27d-12b4faa928c9",
   "metadata": {},
   "source": [
    "**Поиск неприводимого многочлена с коэффициентами из $\\mathbb{F}_p$**"
   ]
  },
  {
   "cell_type": "code",
   "execution_count": 62,
   "id": "64fd8d1d-e60c-4f05-8794-8407209b3fe7",
   "metadata": {},
   "outputs": [],
   "source": [
    "def possible_poly() -> list[tuple[int]]:\n",
    "    poly_coeffs = []\n",
    "    for coeff1, coeff2 in product(range(prime), repeat=2):\n",
    "        if irred_cubic_polynom(cfs:=(coeff1, coeff2)):\n",
    "            poly_coeffs.append(cfs)\n",
    "    return poly_coeffs"
   ]
  },
  {
   "cell_type": "markdown",
   "id": "67a1e3f9-704a-4d95-8c38-7409f38f2590",
   "metadata": {},
   "source": [
    "**Получение уравнений на потенциальный корень из кубического расширения**"
   ]
  },
  {
   "cell_type": "markdown",
   "id": "f2b1643d-913e-4240-82ba-c34d2fcc3cdc",
   "metadata": {},
   "source": [
    "В найденную анизотропную над $\\mathbb{F}_p$ форму $q(x_1, x_2, x_3) = d_1x_1^4 + d_2x_2^4+ d_3x_3^4$, подставим произвольные элементы $y_1, y_2, y_3\\in \\mathbb{F}_p(\\alpha)$, где $\\alpha^3 + f_1\\alpha + f_2 = 0$ (то есть $\\alpha$ - корень неприводимого над $\\mathbb{F}_p$ многочлена $f(t) = t^3 + f_1t + f_2$). Произвольный элемент $y_i$ из $\\mathbb{F}_p(\\alpha)$ имеет вид $y_i = a_it^2 + b_it + c_i$, где $a_i, b_i, c_i \\in \\mathbb{F}_p$. Подставив $y_1, y_2, y_3$ в $q(x_1, x_2, x_3)$ собёрем вместе слагаемые при одинаковых степенях $t$, после чего приравняем их к нулю. Таким образом получим систему уравнений на потенциальный корень.  "
   ]
  },
  {
   "cell_type": "code",
   "execution_count": 65,
   "id": "15464c22-eb3c-4cf7-ac50-0fea49a49255",
   "metadata": {},
   "outputs": [],
   "source": [
    "def equations_for_counterex(form_coeffs, poly_coeffs) -> list[str]:\n",
    "    t = sp.symbols('t')\n",
    "    a1, a2, a3 = sp.symbols('a1 a2 a3')\n",
    "    b1, b2, b3 = sp.symbols('b1 b2 b3')\n",
    "    c1, c2, c3 = sp.symbols('c1 c2 c3')\n",
    "    x1, x2, x3 = sp.symbols('x1 x2 x3')\n",
    "    \n",
    "    d1, d2, d3 = form_coeffs\n",
    "    f1, f2 = poly_coeffs\n",
    "\n",
    "    form = sp.Poly(d1*x1**4+d2*x2**4+d3*x3**4, x1, x2, x3)\n",
    "\n",
    "    new_x1 = a1*t**2+b1*t+c1\n",
    "    new_x2 = a2*t**2+b2*t+c2\n",
    "    new_x3 = a3*t**2+b3*t+c3\n",
    "    \n",
    "    form1 = form.subs({x1:new_x1,x2:new_x2,x3:new_x3})\n",
    "    form1 = sp.Poly(form1,t).rem(sp.Poly(t**3+f1*t+f2,t))\n",
    "\n",
    "    return list(map(str,form1.all_coeffs()))"
   ]
  },
  {
   "cell_type": "markdown",
   "id": "64794597-b48c-4b4c-ab13-b13cdf378e2b",
   "metadata": {},
   "source": [
    "**Решение найденных уравнений**"
   ]
  },
  {
   "cell_type": "markdown",
   "id": "cf83cb2a-82a6-4aa4-87ab-37eb02235f08",
   "metadata": {},
   "source": [
    "Решим систему, полученную на предыдущем шаге с помощью перебора."
   ]
  },
  {
   "cell_type": "code",
   "execution_count": 68,
   "id": "feeebc8e-c3f5-4982-8dcd-ba789944ad90",
   "metadata": {},
   "outputs": [],
   "source": [
    "def solving_equations(equations) -> str | None:\n",
    "    eq1, eq2, eq3 = equations[0], equations[1], equations[2]\n",
    "    for a1, a2, a3, b1, b2, b3, c1, c2, c3 in product(range(prime), repeat=9):\n",
    "       if any(var != 0 for var in (a1, a2, a3, b1, b2, b3, c1, c2, c3)):\n",
    "           values = {\n",
    "               'a1': a1,\n",
    "               'a2': a2,\n",
    "               'a3': a3,\n",
    "               'b1': b1,\n",
    "               'b2': b2,\n",
    "               'b3': b3,\n",
    "               'c1': c1,\n",
    "               'c2': c2,\n",
    "               'c3': c3\n",
    "           }\n",
    "           if eval(eq1, {}, values)%prime==0 and eval(eq2, {}, values)%prime==0 and eval(eq3, {}, values)%prime==0:\n",
    "               return f'ROOT {values}'"
   ]
  },
  {
   "cell_type": "markdown",
   "id": "e2b1cefa-4c06-4eda-aa3f-f14bfcff1fe6",
   "metadata": {},
   "source": [
    "**Получение корня, если он существует**"
   ]
  },
  {
   "cell_type": "markdown",
   "id": "099d8644-d29e-453a-89f8-2965620f7f44",
   "metadata": {},
   "source": [
    "Получим анизотропную форму, неприводимый многочлен и корень формы из кубического расширения, если это возможно."
   ]
  },
  {
   "cell_type": "code",
   "execution_count": 71,
   "id": "8a6b1b7c-5630-4f60-821f-c603283ec4e7",
   "metadata": {},
   "outputs": [],
   "source": [
    "def get_counterexample() -> tuple[str] | str:\n",
    "    for form in possible_forms():\n",
    "        for poly in possible_poly():\n",
    "            if (ans:=solving_equations(equations_for_counterex(form, poly))):\n",
    "                return f'FORM: {form}', f'POLY: {poly}', ans\n",
    "    return 'NO COUNTEREXAMPLES'"
   ]
  },
  {
   "cell_type": "code",
   "execution_count": 72,
   "id": "b4c6ab70-1a0f-46e9-ae4c-3394cfecc0ae",
   "metadata": {},
   "outputs": [
    {
     "data": {
      "text/plain": [
       "('FORM: (1, 1, 1)',\n",
       " 'POLY: (1, 1)',\n",
       " \"ROOT {'a1': 0, 'a2': 0, 'a3': 1, 'b1': 0, 'b2': 1, 'b3': 2, 'c1': 1, 'c2': 0, 'c3': 1}\")"
      ]
     },
     "execution_count": 72,
     "metadata": {},
     "output_type": "execute_result"
    }
   ],
   "source": [
    "get_counterexample()"
   ]
  }
 ],
 "metadata": {
  "kernelspec": {
   "display_name": "Python 3 (ipykernel)",
   "language": "python",
   "name": "python3"
  },
  "language_info": {
   "codemirror_mode": {
    "name": "ipython",
    "version": 3
   },
   "file_extension": ".py",
   "mimetype": "text/x-python",
   "name": "python",
   "nbconvert_exporter": "python",
   "pygments_lexer": "ipython3",
   "version": "3.11.7"
  }
 },
 "nbformat": 4,
 "nbformat_minor": 5
}
